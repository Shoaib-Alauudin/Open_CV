{
 "cells": [
  {
   "cell_type": "code",
   "execution_count": 1,
   "metadata": {
    "collapsed": true
   },
   "outputs": [],
   "source": [
    "import cv2\n",
    "import numpy as np"
   ]
  },
  {
   "cell_type": "code",
   "execution_count": 2,
   "metadata": {
    "collapsed": true
   },
   "outputs": [],
   "source": [
    "# Load our input image\n",
    "image = cv2.imread('./images/input.jpg')#\n",
    "\n",
    "cv2.imshow(\"image Name\",image)\n",
    "cv2.waitKey()\n",
    "\n",
    "cv2.destroyAllWindows()"
   ]
  },
  {
   "cell_type": "code",
   "execution_count": 3,
   "metadata": {
    "collapsed": true
   },
   "outputs": [],
   "source": [
    "input_image = cv2.imread('./images/input.jpg')\n",
    "\n",
    "cv2.imshow(\"input image\", input_image)\n",
    "cv2.waitKey(0)\n",
    "cv2.destroyAllWindows()"
   ]
  },
  {
   "cell_type": "code",
   "execution_count": 4,
   "metadata": {},
   "outputs": [
    {
     "name": "stdout",
     "output_type": "stream",
     "text": [
      "(830, 1245, 3)\n"
     ]
    }
   ],
   "source": [
    "print(input_image.shape)"
   ]
  },
  {
   "cell_type": "code",
   "execution_count": 5,
   "metadata": {},
   "outputs": [
    {
     "data": {
      "text/plain": [
       "True"
      ]
     },
     "execution_count": 5,
     "metadata": {},
     "output_type": "execute_result"
    }
   ],
   "source": [
    "# store image\n",
    "\n",
    "cv2.imwrite(\"new_image.jpg\",input_image)"
   ]
  },
  {
   "cell_type": "code",
   "execution_count": 6,
   "metadata": {
    "collapsed": true
   },
   "outputs": [],
   "source": [
    "#Grey scale image\n",
    "grey_image = cv2.cvtColor(input_image, cv2.COLOR_RGB2GRAY)\n",
    "\n",
    "cv2.imshow(\"Grey Image\",grey_image)\n",
    "cv2.waitKey()\n",
    "cv2.destroyAllWindows()"
   ]
  },
  {
   "cell_type": "code",
   "execution_count": 7,
   "metadata": {
    "collapsed": true
   },
   "outputs": [],
   "source": [
    "# Another faster way to create grey scale image\n",
    "\n",
    "grey = cv2.imread('./images/input.jpg',0)# 0 -> grey\n",
    "\n",
    "cv2.imshow(\"grey Image\", grey)\n",
    "cv2.waitKey()\n",
    "cv2.destroyAllWindows()"
   ]
  },
  {
   "cell_type": "code",
   "execution_count": 8,
   "metadata": {},
   "outputs": [
    {
     "name": "stdout",
     "output_type": "stream",
     "text": [
      "13 32 19\n",
      "(830, 1245, 3)\n"
     ]
    }
   ],
   "source": [
    "B, G, R = input_image[10,50]\n",
    "\n",
    "print(B,R,G)\n",
    "print(input_image.shape)"
   ]
  },
  {
   "cell_type": "code",
   "execution_count": 9,
   "metadata": {
    "collapsed": true
   },
   "outputs": [],
   "source": [
    "# ANother very useful color filtering HSV (Hue, Saturation, Value)\n",
    "\n",
    "image = cv2.imread('./images/input.jpg',1)\n",
    "HSV = cv2.cvtColor(image, cv2.COLOR_BGR2HSV)\n",
    "\n",
    "cv2.imshow(\"HSV\",HSV)\n",
    "cv2.imshow(\"Hue\", HSV[:,:,0])\n",
    "cv2.imshow(\"Saturation\", HSV[:,:,1])\n",
    "cv2.imshow(\"Value\",HSV[:,:,2])\n",
    "\n",
    "cv2.waitKey()\n",
    "cv2.destroyAllWindows()"
   ]
  },
  {
   "cell_type": "markdown",
   "metadata": {},
   "source": [
    "### Individual RGB Channels in image"
   ]
  },
  {
   "cell_type": "code",
   "execution_count": 12,
   "metadata": {
    "collapsed": true
   },
   "outputs": [],
   "source": [
    "image = cv2.imread('./images/input.JPG')\n",
    "\n",
    "R,G,B = cv2.split(image)\n",
    "\n",
    "cv2.imshow(\"Red\", R)\n",
    "cv2.imshow(\"Green\", G)\n",
    "cv2.imshow(\"Blue\", B)\n",
    "\n",
    "cv2.waitKey()\n",
    "cv2.destroyAllWindows()\n",
    "\n",
    "\n",
    "merged_image = cv2.merge([R,G,B])\n",
    "cv2.imshow(\"R G B merged image\", merged_image)\n",
    "\n",
    "cv2.waitKey()\n",
    "cv2.destroyAllWindows()"
   ]
  },
  {
   "cell_type": "code",
   "execution_count": 13,
   "metadata": {},
   "outputs": [
    {
     "name": "stdout",
     "output_type": "stream",
     "text": [
      "(830, 1245)\n"
     ]
    }
   ],
   "source": [
    "# More on RGB\n",
    "\n",
    "R, G, B = cv2.split(image)\n",
    "\n",
    "# Let's create a matrix of zeros\n",
    "# With dimensions of the image width and height\n",
    "\n",
    "zeros = np.zeros(image.shape[:2], dtype='uint8')\n",
    "print(zeros.shape)\n",
    "\n",
    "cv2.imshow(\"Zeros image\", zeros)\n",
    "\n",
    "cv2.imshow(\"zeros and RED\", cv2.merge([zeros, zeros, R]))\n",
    "\n",
    "cv2.imshow(\"zeros and Green\", cv2.merge([zeros, G, zeros]))\n",
    "\n",
    "cv2.imshow(\"zeros and Blue\", cv2.merge([B, zeros, zeros]))\n",
    "\n",
    "cv2.waitKey()\n",
    "cv2.destroyAllWindows()"
   ]
  },
  {
   "cell_type": "code",
   "execution_count": 14,
   "metadata": {},
   "outputs": [
    {
     "name": "stdout",
     "output_type": "stream",
     "text": [
      "[[1 1 1 ..., 1 1 1]\n",
      " [1 1 1 ..., 1 1 1]\n",
      " [1 1 1 ..., 1 1 1]\n",
      " ..., \n",
      " [1 1 1 ..., 1 1 1]\n",
      " [1 1 1 ..., 1 1 1]\n",
      " [1 1 1 ..., 1 1 1]]\n"
     ]
    }
   ],
   "source": [
    "# More on RGB\n",
    "\n",
    "R, G, B = cv2.split(image)\n",
    "\n",
    "# Let's create a matrix of zeros\n",
    "# With dimensions of the image width and height\n",
    "\n",
    "ones = np.ones(image.shape[:2], dtype='uint8')\n",
    "\n",
    "print(ones)\n",
    "\n",
    "cv2.imshow(\"ones image\", ones)\n",
    "\n",
    "cv2.imshow(\"ones and RED\", cv2.merge([ones, ones, R]))\n",
    "\n",
    "cv2.imshow(\"ones and Green\", cv2.merge([ones, G, ones]))\n",
    "\n",
    "cv2.imshow(\"ones and Blue\", cv2.merge([B, ones, ones]))\n",
    "\n",
    "cv2.waitKey()\n",
    "cv2.destroyAllWindows()"
   ]
  },
  {
   "cell_type": "markdown",
   "metadata": {},
   "source": [
    "### Histograms are a great way to visualize individual color components"
   ]
  },
  {
   "cell_type": "code",
   "execution_count": 15,
   "metadata": {
    "scrolled": true
   },
   "outputs": [
    {
     "data": {
      "image/png": "[encoded data removed]",
      "text/plain": [
       "<matplotlib.figure.Figure at 0x11a9fe27be0>"
      ]
     },
     "metadata": {},
     "output_type": "display_data"
    },
    {
     "data": {
      "image/png": "[encoded data removed]",
      "text/plain": [
       "<matplotlib.figure.Figure at 0x11a9fe220b8>"
      ]
     },
     "metadata": {},
     "output_type": "display_data"
    }
   ],
   "source": [
    "from matplotlib import pyplot as plt\n",
    "\n",
    "image = cv2.imread(\"./images/input.jpg\")\n",
    "\n",
    "\n",
    "#histogram = cv2.calcHist([image], [0], None, [256], [0, 256])\n",
    "plt.hist(image.ravel(), 256, [0,256], ec='c')\n",
    "plt.show()\n",
    "\n",
    "\n",
    "# veiwing seperate the colors and plot each in the Histogram\n",
    "colors = ('b','g','r')\n",
    "for i, col in enumerate(colors):\n",
    "    histogram2 = cv2.calcHist([image], [i], None, [256],[0, 256])\n",
    "    plt.plot(histogram2, color=col)\n",
    "    plt.xlim([0,256])\n",
    "    \n",
    "plt.show()"
   ]
  },
  {
   "cell_type": "markdown",
   "metadata": {},
   "source": [
    "#### cv2.calcHist(images, channels, mask, histSize, ranges[, hist[, accumulate]])\n",
    "\n",
    "* images : it is the source image of type uint8 or float32. it should be given in square brackets, ie, \"[img]\".\n",
    "* channels : it is also given in square brackets. It is the index of channel for which we calculate histogram. For example, if input is grayscale image, its value is [0]. For color image, you can pass [0], [1] or [2] to calculate histogram of blue, green or red channel respectively.\n",
    "* mask : mask image. To find histogram of full image, it is given as \"None\". But if you want to find histogram of particular region of image, you have to create a mask image for that and give it as mask. (I will show an example later.)\n",
    "* histSize : this represents our BIN count. Need to be given in square brackets. For full scale, we pass [256].\n",
    "* ranges : this is our RANGE. Normally, it is [0,256].\n",
    "\n"
   ]
  },
  {
   "cell_type": "code",
   "execution_count": 16,
   "metadata": {},
   "outputs": [
    {
     "data": {
      "image/png": "[encoded data removed]",
      "text/plain": [
       "<matplotlib.figure.Figure at 0x11aa22c5c88>"
      ]
     },
     "metadata": {},
     "output_type": "display_data"
    },
    {
     "data": {
      "image/png": "[encoded data removed]",
      "text/plain": [
       "<matplotlib.figure.Figure at 0x11aa2d7e8d0>"
      ]
     },
     "metadata": {},
     "output_type": "display_data"
    }
   ],
   "source": [
    "# Another example\n",
    "\n",
    "import cv2\n",
    "import numpy as np\n",
    "import matplotlib.pyplot as plt\n",
    "\n",
    "image = cv2.imread('./images/tobago.jpg')\n",
    "\n",
    "cv2.imshow(\"tobago image\", image)\n",
    "\n",
    "\n",
    "# We plot a histogram, ravel() flatens our image array \n",
    "#histogram = cv2.calcHist([image], [0], None, [256], [0, 256])\n",
    "plt.hist(image.ravel(),bins=256, range=[0, 256])\n",
    "plt.show()\n",
    "\n",
    "# Viewing Separate Color Channels\n",
    "color = ('b', 'g', 'r')\n",
    "\n",
    "# We now separate the colors and plot each in the Histogram\n",
    "for i,col in enumerate(color):\n",
    "    hist2 = cv2.calcHist([image], [i], None, [256], [0,256])\n",
    "    plt.plot(hist2, color=col)\n",
    "    plt.xlim([0,256])\n",
    "    \n",
    "plt.show()\n",
    "\n",
    "cv2.waitKey()\n",
    "cv2.destroyAllWindows()"
   ]
  },
  {
   "cell_type": "markdown",
   "metadata": {},
   "source": [
    "#### Drawing images and shapes using OpenCV"
   ]
  },
  {
   "cell_type": "code",
   "execution_count": 17,
   "metadata": {
    "collapsed": true
   },
   "outputs": [],
   "source": [
    "import cv2\n",
    "import numpy as np\n",
    "\n",
    "# Create a black image\n",
    "# Bild hat eine Größe von 512*512 und 3 Schichten für die RGB Farben\n",
    "image = np.zeros((512,512,3), np.uint8)\n",
    "\n",
    "image_bw = np.zeros((512,512), np.uint8)\n",
    "\n",
    "\n",
    "cv2.imshow(\"3 channel image\", image)#3 channel image\n",
    "\n",
    "cv2.imshow(\"Black and WHite image\", image_bw)# 1 channel image\n",
    "\n",
    "cv2.waitKey()\n",
    "cv2.destroyAllWindows()"
   ]
  },
  {
   "cell_type": "markdown",
   "metadata": {},
   "source": [
    "###### Let's draw a line over our black sqare\n",
    "\n",
    "* cv2.line(image, starting cordinates, ending cordinates, color, thickness)\n"
   ]
  },
  {
   "cell_type": "code",
   "execution_count": 18,
   "metadata": {
    "collapsed": true
   },
   "outputs": [],
   "source": [
    "image = np.zeros((512,512,3), np.uint8)\n",
    "\n",
    "cv2.line(image, (0,0), (245,245), (255,127,0), 5)\n",
    "cv2.line(image, (265,265), (511,511), (255,127,0), 5)\n",
    "cv2.line(image, (0,511), (511,0), (255,127,0), 5)\n",
    "cv2.imshow(\"image with line\", image)\n",
    "\n",
    "cv2.waitKey()\n",
    "cv2.destroyAllWindows()"
   ]
  },
  {
   "cell_type": "markdown",
   "metadata": {},
   "source": [
    "###### Let's now draw a rectangle\n",
    "\n",
    "* cv2.rectangle(image, starting vertex, opposite vertex, color, thickness)\n"
   ]
  },
  {
   "cell_type": "code",
   "execution_count": 19,
   "metadata": {
    "collapsed": true
   },
   "outputs": [],
   "source": [
    "# Draw a rectangle\n",
    "image = np.zeros((512,512), np.uint8)\n",
    "\n",
    "cv2.rectangle(image,(100,100), (300,250), (255,127,0), -1)\n",
    "cv2.imshow(\"rectangle image\", image)\n",
    "cv2.waitKey()\n",
    "cv2.destroyAllWindows()"
   ]
  },
  {
   "cell_type": "markdown",
   "metadata": {},
   "source": [
    "###### Let's now draw a circles\n",
    "* cv2.cirlce(image, center, radius, color, fill)"
   ]
  },
  {
   "cell_type": "code",
   "execution_count": 20,
   "metadata": {
    "collapsed": true
   },
   "outputs": [],
   "source": [
    "image = np.zeros((512,512,3), np.uint8)\n",
    "\n",
    "cv2.circle(image, (256,256), 150, (255,255,50), -1)\n",
    "\n",
    "cv2.imshow(\"Image with circle\", image)\n",
    "cv2.waitKey()\n",
    "cv2.destroyAllWindows()"
   ]
  },
  {
   "cell_type": "markdown",
   "metadata": {},
   "source": [
    "###### Let's now draw a polygons"
   ]
  },
  {
   "cell_type": "code",
   "execution_count": 21,
   "metadata": {},
   "outputs": [
    {
     "name": "stdout",
     "output_type": "stream",
     "text": [
      "(4, 2)\n",
      "(4, 1, 2)\n"
     ]
    }
   ],
   "source": [
    "image = np.zeros((512,512,3), np.uint8)\n",
    "\n",
    "pts = np.array([[10,50], [400,50], [90,200], [50,500]], np.int32)\n",
    "\n",
    "print(pts.shape)\n",
    "\n",
    "# Let's now reshape our points in form  required by polylines\n",
    "pts = pts.reshape((-1,1,2))\n",
    "print(pts.shape)\n",
    "\n",
    "cv2.polylines(image, [pts], True, (255,255,70), 3)\n",
    "\n",
    "cv2.imshow(\"image with polyline\", image)\n",
    "cv2.waitKey()\n",
    "cv2.destroyAllWindows()"
   ]
  },
  {
   "cell_type": "markdown",
   "metadata": {},
   "source": [
    "##### Let's even add text with cv2.putText\n",
    "* cv2.putText(image, 'Text to Display', bottom left starting point, Font, Font Size, Color, Thickness)"
   ]
  },
  {
   "cell_type": "code",
   "execution_count": 22,
   "metadata": {
    "collapsed": true
   },
   "outputs": [],
   "source": [
    "image = np.zeros((512,512,3), np.uint8)\n",
    "\n",
    "cv2.putText(image, \"Hello OpenCV\", (150, 240), cv2.FONT_HERSHEY_COMPLEX, 1, (255,255,50), 3)\n",
    "\n",
    "cv2.imshow(\"Image with Text\",image)\n",
    "cv2.waitKey()\n",
    "cv2.destroyAllWindows()"
   ]
  },
  {
   "cell_type": "markdown",
   "metadata": {},
   "source": [
    "### Sharpening\n",
    "\n",
    "* By altering our kernels we can implement sharpening, which has the effects of in strengthening or emphasizing edges in an image.\n"
   ]
  },
  {
   "cell_type": "code",
   "execution_count": 23,
   "metadata": {
    "collapsed": true
   },
   "outputs": [],
   "source": [
    "import cv2\n",
    "import numpy as np\n",
    "\n",
    "image = cv2.imread(\"./new_image.jpg\")\n",
    "cv2.imshow(\"original Image\", image)\n",
    "\n",
    "# Create our shapening kernel (kernel weight 3,3 matrix), \n",
    "# we don't normalize since the \n",
    "# the values in the matrix sum to 1\n",
    "\n",
    "kernel_sharpening = np.array([[-1,-1,-1], \n",
    "                              [-1,9,-1], \n",
    "                              [-1,-1,-1]])\n",
    "\n",
    "kernel_sharpening_2 = np.array([[-1,-1,9], \n",
    "                              [-1,-1,-1], \n",
    "                              [-1,-1,-1]])\n",
    "\n",
    "# Applying the above kernel to the input image\n",
    "filter_image = cv2.filter2D(image, -1, kernel_sharpening)\n",
    "\n",
    "filter_image_2 = cv2.filter2D(image, -2, kernel_sharpening_2)\n",
    "\n",
    "\n",
    "cv2.imshow(\"NEw Image filter 1\", filter_image)\n",
    "\n",
    "cv2.imshow(\"NEw Image filter 2\", filter_image_2)\n",
    "\n",
    "\n",
    "cv2.waitKey()\n",
    "cv2.destroyAllWindows()"
   ]
  },
  {
   "cell_type": "code",
   "execution_count": 24,
   "metadata": {},
   "outputs": [
    {
     "data": {
      "text/plain": [
       "True"
      ]
     },
     "execution_count": 24,
     "metadata": {},
     "output_type": "execute_result"
    }
   ],
   "source": [
    "cv2.imwrite(\"filter_1.jpg\",filter_image)\n",
    "cv2.imwrite(\"filter_2.jpg\", filter_image_2)"
   ]
  },
  {
   "cell_type": "markdown",
   "metadata": {
    "collapsed": true
   },
   "source": [
    "##### Thresholding, Binarization & Adaptive Thresholding]\n",
    "* In thresholding, we convert a grey scale image to it's binary form"
   ]
  },
  {
   "cell_type": "code",
   "execution_count": 25,
   "metadata": {},
   "outputs": [
    {
     "name": "stdout",
     "output_type": "stream",
     "text": [
      "ret 1 127.0\n",
      "ret 2 127.0\n",
      "ret 3 127.0\n",
      "ret 4 127.0\n",
      "ret 5 127.0\n"
     ]
    }
   ],
   "source": [
    "import cv2\n",
    "import numpy as np\n",
    "\n",
    "image = cv2.imread(\"./images/gradient.jpg\")\n",
    "cv2.imshow(\"Original\",image)\n",
    "\n",
    "\n",
    "# Values -> black <= 127 & white > 127\n",
    "ret, thresh1 = cv2.threshold(image, 127,255, cv2.THRESH_BINARY)\n",
    "print(\"ret 1\",ret)\n",
    "cv2.imshow(\"1 Threshold Binary\",thresh1)\n",
    "\n",
    "\n",
    "# Values -> black > 127 & white <= 127\n",
    "ret2,thresh2 = cv2.threshold(image, 127, 255, cv2.THRESH_BINARY_INV)\n",
    "print(\"ret 2\",ret2)\n",
    "cv2.imshow(\"2 Threshold Binary Inverse\",thresh2)\n",
    "\n",
    "\n",
    "# Values above 127 are truncated (held) at 127 (the 255 argument is unused)\n",
    "ret3,thresh3 = cv2.threshold(image, 127,255, cv2.THRESH_TRUNC)\n",
    "print(\"ret 3\",ret3)\n",
    "cv2.imshow(\"3 THRESH TRUNC\",thresh3)\n",
    "\n",
    "\n",
    "# Values below 127 image go to 0, above 127 are unchanged  \n",
    "ret4,thresh4 = cv2.threshold(image, 127, 255, cv2.THRESH_TOZERO)\n",
    "print(\"ret 4\",ret4)\n",
    "cv2.imshow(\"4 THRESH TOZERO\",thresh4)\n",
    "\n",
    "\n",
    "# Resever of above, below 127 image is unchanged, above 127 goes to 0\n",
    "ret5,thresh5 = cv2.threshold(image, 127, 255, cv2.THRESH_TOZERO_INV)\n",
    "print(\"ret 5\",ret5)\n",
    "cv2.imshow(\"5 THRESH TOZERO INV\",thresh5)\n",
    "\n",
    "cv2.waitKey()\n",
    "cv2.destroyAllWindows()"
   ]
  },
  {
   "cell_type": "markdown",
   "metadata": {},
   "source": [
    "##### Let doing this with a smarter way\n",
    "* There is with, Adaptive thresholding."
   ]
  },
  {
   "cell_type": "code",
   "execution_count": 1,
   "metadata": {},
   "outputs": [
    {
     "ename": "error",
     "evalue": "..\\..\\..\\modules\\imgproc\\src\\thresh.cpp:1286: error: (-215) src.type() == CV_8UC1 in function cv::adaptiveThreshold\n",
     "output_type": "error",
     "traceback": [
      "\u001b[1;31m---------------------------------------------------------------------------\u001b[0m",
      "\u001b[1;31merror\u001b[0m                                     Traceback (most recent call last)",
      "\u001b[1;32m<ipython-input-1-c7baeef9b32e>\u001b[0m in \u001b[0;36m<module>\u001b[1;34m()\u001b[0m\n\u001b[0;32m     16\u001b[0m \u001b[1;31m# Using adaptiveThreshold\u001b[0m\u001b[1;33m\u001b[0m\u001b[1;33m\u001b[0m\u001b[0m\n\u001b[0;32m     17\u001b[0m thresh = cv2.adaptiveThreshold(image, 255, cv2.ADAPTIVE_THRESH_MEAN_C, \n\u001b[1;32m---> 18\u001b[1;33m                                cv2.THRESH_BINARY, 3, 5) \n\u001b[0m\u001b[0;32m     19\u001b[0m \u001b[0mcv2\u001b[0m\u001b[1;33m.\u001b[0m\u001b[0mimshow\u001b[0m\u001b[1;33m(\u001b[0m\u001b[1;34m\"Adaptive Mean Thresholding\"\u001b[0m\u001b[1;33m,\u001b[0m \u001b[0mthresh\u001b[0m\u001b[1;33m)\u001b[0m\u001b[1;33m\u001b[0m\u001b[0m\n\u001b[0;32m     20\u001b[0m \u001b[0mcv2\u001b[0m\u001b[1;33m.\u001b[0m\u001b[0mwaitKey\u001b[0m\u001b[1;33m(\u001b[0m\u001b[1;36m0\u001b[0m\u001b[1;33m)\u001b[0m\u001b[1;33m\u001b[0m\u001b[0m\n",
      "\u001b[1;31merror\u001b[0m: ..\\..\\..\\modules\\imgproc\\src\\thresh.cpp:1286: error: (-215) src.type() == CV_8UC1 in function cv::adaptiveThreshold\n"
     ]
    }
   ],
   "source": [
    "import cv2\n",
    "import numpy as np\n",
    "\n",
    "image = cv2.imread(\"./images/Origin_of_Species.jpg\")\n",
    "cv2.imshow(\"Original Image\",image)\n",
    "\n",
    "ret, thresh1 = cv2.threshold(image, 127, 255, cv2.THRESH_BINARY)\n",
    "cv2.imshow(\"Binary Threshold Image\",thresh1)\n",
    "\n",
    "\n",
    "# It's good practice to blur images as it removes noise\n",
    "image = cv2.GaussianBlur(image, (3,3), 0)\n",
    "cv2.imshow(\"Blur image\", image)\n",
    "\n",
    "\n",
    "# Using adaptiveThreshold\n",
    "thresh = cv2.adaptiveThreshold(image, 255, cv2.ADAPTIVE_THRESH_MEAN_C, \n",
    "                               cv2.THRESH_BINARY, 3, 5) \n",
    "cv2.imshow(\"Adaptive Mean Thresholding\", thresh) \n",
    "cv2.waitKey(0) \n",
    "\n",
    "_, th2 = cv2.threshold(image, 0, 255, cv2.THRESH_BINARY + cv2.THRESH_OTSU)\n",
    "cv2.imshow(\"Otsu's Thresholding\", thresh) \n",
    "cv2.waitKey(0) \n",
    "\n",
    "# Otsu's thresholding after Gaussian filtering\n",
    "blur = cv2.GaussianBlur(image, (5,5), 0)\n",
    "_, th3 = cv2.threshold(blur, 0, 255, cv2.THRESH_BINARY + cv2.THRESH_OTSU)\n",
    "cv2.imshow(\"Guassian Otsu's Thresholding\", thresh) \n",
    "cv2.waitKey(0) \n",
    "\n",
    "cv2.destroyAllWindows()"
   ]
  },
  {
   "cell_type": "markdown",
   "metadata": {
    "collapsed": true
   },
   "source": [
    "##### Translation\n",
    "* This an affine transforma that simply shifts the position of an image.\n",
    "* We use the openCV function cv2.wrapAffine to implements these translations"
   ]
  },
  {
   "cell_type": "code",
   "execution_count": 22,
   "metadata": {},
   "outputs": [
    {
     "name": "stdout",
     "output_type": "stream",
     "text": [
      "Height: 830 n/Width: 1245\n",
      "quarter_height 207.5\n",
      "quarter_width 311.25\n",
      "T value: [[   1.      0.    311.25]\n",
      " [   0.      1.    207.5 ]] \n",
      "\n",
      "T Shape: (2, 3)\n"
     ]
    }
   ],
   "source": [
    "import cv2\n",
    "import numpy as np\n",
    "\n",
    "\n",
    "image = cv2.imread(\"./images/input.jpg\")\n",
    "\n",
    "cv2.imshow(\"Original image\", image)\n",
    "cv2.waitKey(0)\n",
    "\n",
    "# store height and width of the image\n",
    "height, width = image.shape[:2]\n",
    "print(\"Height:\",height,\"n/Width:\",width)\n",
    "\n",
    "quarter_height, quarter_width = height/4, width/4\n",
    "\n",
    "print(\"quarter_height\",quarter_height)\n",
    "print(\"quarter_width\",quarter_width)\n",
    "\n",
    "# T is our translation matrix\n",
    "# Here, Tx = quarter_width & Ty = quarter_height\n",
    "T = np.float32([[1,0, quarter_width], [0,1, quarter_height]])\n",
    "\n",
    "print(\"T value:\",T,\"\\n\")\n",
    "print(\"T Shape:\",T.shape)\n",
    "\n",
    "trans_image = cv2.warpAffine(image, T, (width, height)) \n",
    "cv2.imshow(\"Translation Image\",trans_image)\n",
    "\n",
    "cv2.waitKey(0)\n",
    "cv2.destroyAllWindows()"
   ]
  },
  {
   "cell_type": "markdown",
   "metadata": {},
   "source": [
    "##### Let's doing some Rotation in images \n",
    "* openCV allows you to scale and rotate at the same thing using the function\n",
    "* cv2.getRotationMatrix2D"
   ]
  },
  {
   "cell_type": "code",
   "execution_count": 31,
   "metadata": {},
   "outputs": [],
   "source": [
    "import cv2\n",
    "import numpy as np\n",
    "\n",
    "\n",
    "image = cv2.imread(\"./images/input.jpg\")\n",
    "cv2.imshow(\"Original Image\",image)\n",
    "cv2.waitKey(0)\n",
    "height, width = image.shape[:2]\n",
    "\n",
    "# Divide by two to rotate the image around its centre\n",
    "\n",
    "rotation_matrix = cv2.getRotationMatrix2D((width/2, height/2), 90, 0.5)\n",
    "\n",
    "rotated_image = cv2.warpAffine(image, rotation_matrix, (width, height))\n",
    "\n",
    "cv2.imshow(\"Rotated Image\",rotated_image)\n",
    "cv2.waitKey(0)\n",
    "\n",
    "cv2.destroyAllWindows()"
   ]
  },
  {
   "cell_type": "markdown",
   "metadata": {},
   "source": [
    "##### We could now copy the image as we can calculate it's new size (we haven't learned cropping yet).\n",
    "\n",
    "* Here's another method for simple rotations that uses the cv2.transpose function"
   ]
  },
  {
   "cell_type": "code",
   "execution_count": 32,
   "metadata": {
    "collapsed": true
   },
   "outputs": [],
   "source": [
    "import cv2\n",
    "import numpy as np\n",
    "\n",
    "image = cv2.imread(\"./images/input.jpg\")\n",
    "\n",
    "rotated_image = cv2.transpose(image)\n",
    "\n",
    "cv2.imshow(\"Rotated image\", rotated_image)\n",
    "cv2.waitKey(0)\n",
    "\n",
    "cv2.destroyAllWindows()"
   ]
  },
  {
   "cell_type": "markdown",
   "metadata": {},
   "source": [
    "##### Re-sizing, Scaling and Interpolation "
   ]
  }
 ],
 "metadata": {
  "kernelspec": {
   "display_name": "Python 3",
   "language": "python",
   "name": "python3"
  },
  "language_info": {
   "codemirror_mode": {
    "name": "ipython",
    "version": 3
   },
   "file_extension": ".py",
   "mimetype": "text/x-python",
   "name": "python",
   "nbconvert_exporter": "python",
   "pygments_lexer": "ipython3",
   "version": "3.5.4"
  }
 },
 "nbformat": 4,
 "nbformat_minor": 2
}
